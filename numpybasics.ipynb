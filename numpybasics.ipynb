{
 "cells": [
  {
   "cell_type": "code",
   "execution_count": 6,
   "id": "915fbcfc",
   "metadata": {},
   "outputs": [
    {
     "data": {
      "text/plain": [
       "(16598, 11)"
      ]
     },
     "execution_count": 6,
     "metadata": {},
     "output_type": "execute_result"
    }
   ],
   "source": [
    "import pandas as pd\n",
    "df=pd.read_csv('vgsales.csv')\n",
    "df  # df likhne se upar wala line execute hoga\n",
    "df.shape#sirf last wala line execute hota hai"
   ]
  },
  {
   "cell_type": "code",
   "execution_count": 7,
   "id": "7a8e6434",
   "metadata": {
    "scrolled": false
   },
   "outputs": [
    {
     "data": {
      "text/plain": [
       "array([[1, 'Wii Sports', 'Wii', ..., 3.77, 8.46, 82.74],\n",
       "       [2, 'Super Mario Bros.', 'NES', ..., 6.81, 0.77, 40.24],\n",
       "       [3, 'Mario Kart Wii', 'Wii', ..., 3.79, 3.31, 35.82],\n",
       "       ...,\n",
       "       [16598, 'SCORE International Baja 1000: The Official Game', 'PS2',\n",
       "        ..., 0.0, 0.0, 0.01],\n",
       "       [16599, 'Know How 2', 'DS', ..., 0.0, 0.0, 0.01],\n",
       "       [16600, 'Spirits & Spells', 'GBA', ..., 0.0, 0.0, 0.01]],\n",
       "      dtype=object)"
      ]
     },
     "execution_count": 7,
     "metadata": {},
     "output_type": "execute_result"
    }
   ],
   "source": [
    "df.values\n",
    "# x=df.drop(column=['ja jo likhaega wo hat jaega'])"
   ]
  },
  {
   "cell_type": "code",
   "execution_count": 17,
   "id": "72e01469",
   "metadata": {},
   "outputs": [
    {
     "data": {
      "text/plain": [
       "1"
      ]
     },
     "execution_count": 17,
     "metadata": {},
     "output_type": "execute_result"
    }
   ],
   "source": [
    "##numpy\n",
    "import numpy as np\n",
    "a=np.array([1,2,3]) #we can lasa.o make multidimnesional array\n",
    "a.ndim# mtlb kitna list hai basically\n",
    "\n"
   ]
  },
  {
   "cell_type": "code",
   "execution_count": 25,
   "id": "c1b276df",
   "metadata": {},
   "outputs": [],
   "source": [
    "b=np.array([[1,2,3,4],[3,4,5,6],[8,9,5,8]])"
   ]
  },
  {
   "cell_type": "code",
   "execution_count": 26,
   "id": "783a13bf",
   "metadata": {},
   "outputs": [
    {
     "data": {
      "text/plain": [
       "(3, 4)"
      ]
     },
     "execution_count": 26,
     "metadata": {},
     "output_type": "execute_result"
    }
   ],
   "source": [
    "##to get shape\n",
    "b.shape"
   ]
  },
  {
   "cell_type": "code",
   "execution_count": 27,
   "id": "ef11fa28",
   "metadata": {},
   "outputs": [
    {
     "data": {
      "text/plain": [
       "dtype('int32')"
      ]
     },
     "execution_count": 27,
     "metadata": {},
     "output_type": "execute_result"
    }
   ],
   "source": [
    "#get typr\n",
    "a.dtype"
   ]
  },
  {
   "cell_type": "code",
   "execution_count": 28,
   "id": "70be770a",
   "metadata": {},
   "outputs": [
    {
     "data": {
      "text/plain": [
       "4"
      ]
     },
     "execution_count": 28,
     "metadata": {},
     "output_type": "execute_result"
    }
   ],
   "source": [
    "##get size\n",
    "a.itemsize"
   ]
  },
  {
   "cell_type": "code",
   "execution_count": 30,
   "id": "6a7269cc",
   "metadata": {},
   "outputs": [
    {
     "data": {
      "text/plain": [
       "48"
      ]
     },
     "execution_count": 30,
     "metadata": {},
     "output_type": "execute_result"
    }
   ],
   "source": [
    "#total size\n",
    "b.nbytes"
   ]
  },
  {
   "cell_type": "code",
   "execution_count": 31,
   "id": "96e8e663",
   "metadata": {},
   "outputs": [
    {
     "data": {
      "text/plain": [
       "6"
      ]
     },
     "execution_count": 31,
     "metadata": {},
     "output_type": "execute_result"
    }
   ],
   "source": [
    "#to get specific element\n",
    "b[1,-1]"
   ]
  },
  {
   "cell_type": "code",
   "execution_count": 32,
   "id": "c88bbf6d",
   "metadata": {
    "scrolled": true
   },
   "outputs": [
    {
     "data": {
      "text/plain": [
       "array([1, 2, 3, 4])"
      ]
     },
     "execution_count": 32,
     "metadata": {},
     "output_type": "execute_result"
    }
   ],
   "source": [
    "# get specific row\n",
    "b[0,:] #similarily we can do for column"
   ]
  },
  {
   "cell_type": "code",
   "execution_count": 34,
   "id": "c6c3fb97",
   "metadata": {},
   "outputs": [
    {
     "data": {
      "text/plain": [
       "array([2])"
      ]
     },
     "execution_count": 34,
     "metadata": {},
     "output_type": "execute_result"
    }
   ],
   "source": [
    "b[0,1:-1:2]#natlab oth row ke pahle index se last index tak with a gap of 2\n",
    "#we can also modify the element"
   ]
  },
  {
   "cell_type": "code",
   "execution_count": 36,
   "id": "29dd01cf",
   "metadata": {},
   "outputs": [
    {
     "data": {
      "text/plain": [
       "array([[0., 0., 0.],\n",
       "       [0., 0., 0.]])"
      ]
     },
     "execution_count": 36,
     "metadata": {},
     "output_type": "execute_result"
    }
   ],
   "source": [
    "##all zero matrix\n",
    "np.zeros((2,3))#can generate zero matrix of specified dimension\n",
    "##np.ones(()) for generating identity matrix"
   ]
  },
  {
   "cell_type": "code",
   "execution_count": 37,
   "id": "ca932409",
   "metadata": {},
   "outputs": [
    {
     "data": {
      "text/plain": [
       "array([[66, 66],\n",
       "       [66, 66]])"
      ]
     },
     "execution_count": 37,
     "metadata": {},
     "output_type": "execute_result"
    }
   ],
   "source": [
    "###any other matrix\n",
    "np.full((2,2),66)"
   ]
  },
  {
   "cell_type": "code",
   "execution_count": 39,
   "id": "6b13a955",
   "metadata": {},
   "outputs": [
    {
     "data": {
      "text/plain": [
       "array([4, 4, 4])"
      ]
     },
     "execution_count": 39,
     "metadata": {},
     "output_type": "execute_result"
    }
   ],
   "source": [
    "np.full_like(a,4)##3sized matrix me 4 likhna hai"
   ]
  },
  {
   "cell_type": "code",
   "execution_count": 40,
   "id": "c188d718",
   "metadata": {},
   "outputs": [
    {
     "data": {
      "text/plain": [
       "array([[0.8288889 , 0.80311137, 0.95306548, 0.63885247, 0.8694288 ],\n",
       "       [0.34055086, 0.3579562 , 0.67716129, 0.12327104, 0.05089288],\n",
       "       [0.85863723, 0.53055559, 0.04518037, 0.60220738, 0.23704325],\n",
       "       [0.36506481, 0.11504141, 0.85614115, 0.88210307, 0.54363134]])"
      ]
     },
     "execution_count": 40,
     "metadata": {},
     "output_type": "execute_result"
    }
   ],
   "source": [
    "#random decimal no\n",
    "np.random.rand(4,5)#print betweeen 0 and 1"
   ]
  },
  {
   "cell_type": "code",
   "execution_count": 46,
   "id": "6686bd6b",
   "metadata": {},
   "outputs": [
    {
     "data": {
      "text/plain": [
       "array([[5, 4, 5, 6],\n",
       "       [5, 6, 6, 5],\n",
       "       [5, 4, 4, 6]])"
      ]
     },
     "execution_count": 46,
     "metadata": {},
     "output_type": "execute_result"
    }
   ],
   "source": [
    "##random integer value\n",
    "np.random.randint(4,7,size=(3,4))#btween 4 to 7(ixcluded) of given size"
   ]
  },
  {
   "cell_type": "code",
   "execution_count": 47,
   "id": "da807c3d",
   "metadata": {},
   "outputs": [
    {
     "data": {
      "text/plain": [
       "array([[1., 0., 0., 0., 0.],\n",
       "       [0., 1., 0., 0., 0.],\n",
       "       [0., 0., 1., 0., 0.],\n",
       "       [0., 0., 0., 1., 0.],\n",
       "       [0., 0., 0., 0., 1.]])"
      ]
     },
     "execution_count": 47,
     "metadata": {},
     "output_type": "execute_result"
    }
   ],
   "source": [
    "np.identity(5)"
   ]
  },
  {
   "cell_type": "code",
   "execution_count": 54,
   "id": "fe50fd56",
   "metadata": {},
   "outputs": [
    {
     "name": "stdout",
     "output_type": "stream",
     "text": [
      "[[1 1 1 2 2 2 3 3 3]]\n"
     ]
    }
   ],
   "source": [
    "##repeat an array \n",
    "ab=np.array([[1,2,3]])\n",
    "ar=np.repeat(ab,3,axis=1)\n",
    "print(ar)"
   ]
  },
  {
   "cell_type": "code",
   "execution_count": 58,
   "id": "8c53c46a",
   "metadata": {},
   "outputs": [
    {
     "name": "stdout",
     "output_type": "stream",
     "text": [
      "[[1. 1. 1. 1. 1.]\n",
      " [1. 0. 0. 0. 1.]\n",
      " [1. 0. 9. 0. 1.]\n",
      " [1. 0. 0. 0. 1.]\n",
      " [1. 1. 1. 1. 1.]]\n"
     ]
    }
   ],
   "source": [
    "#a programming\n",
    "o=np.ones((5,5))\n",
    "z=np.zeros((3,3))\n",
    "z[1,1]=9\n",
    "o[1:-1,1:-1]=z\n",
    "print(o)"
   ]
  },
  {
   "cell_type": "code",
   "execution_count": 59,
   "id": "2fe1cfdf",
   "metadata": {},
   "outputs": [],
   "source": [
    "b=a.copy()"
   ]
  },
  {
   "cell_type": "code",
   "execution_count": 60,
   "id": "c12217e4",
   "metadata": {},
   "outputs": [
    {
     "data": {
      "text/plain": [
       "array([3, 4, 5])"
      ]
     },
     "execution_count": 60,
     "metadata": {},
     "output_type": "execute_result"
    }
   ],
   "source": [
    "a+2\n",
    "a-2\n",
    "a*2\n",
    "#we can do operation on the element directly\n",
    "# similarily with all the different matric"
   ]
  },
  {
   "cell_type": "code",
   "execution_count": 61,
   "id": "53e125ad",
   "metadata": {},
   "outputs": [
    {
     "data": {
      "text/plain": [
       "14"
      ]
     },
     "execution_count": 61,
     "metadata": {},
     "output_type": "execute_result"
    }
   ],
   "source": [
    "#if we use direct * sign for matrix multiplication then it will multiply row by row\n",
    "# to actually multiply two matrix we use\n",
    "# np.matmul(a,b) and they shoukd be compatible"
   ]
  },
  {
   "cell_type": "code",
   "execution_count": 63,
   "id": "3e7ec6f6",
   "metadata": {},
   "outputs": [
    {
     "data": {
      "text/plain": [
       "1.0"
      ]
     },
     "execution_count": 63,
     "metadata": {},
     "output_type": "execute_result"
    }
   ],
   "source": [
    "##determinst od a matrix\n",
    "c=np.identity(3)\n",
    "np.linalg.det(c)\n",
    "##some more direct libraries we can check out from google"
   ]
  },
  {
   "cell_type": "markdown",
   "id": "af78d27d",
   "metadata": {},
   "source": [
    "##### statistics"
   ]
  },
  {
   "cell_type": "code",
   "execution_count": 67,
   "id": "4b3ce308",
   "metadata": {},
   "outputs": [
    {
     "data": {
      "text/plain": [
       "array([2, 3])"
      ]
     },
     "execution_count": 67,
     "metadata": {},
     "output_type": "execute_result"
    }
   ],
   "source": [
    "stat=np.array([[5,2,3],[3,4,5]])\n",
    "np.min(stat,axis=1)# axis o is downward axis\n",
    "#axis 1 is horizontal axis"
   ]
  },
  {
   "cell_type": "code",
   "execution_count": 68,
   "id": "f3988c47",
   "metadata": {},
   "outputs": [
    {
     "data": {
      "text/plain": [
       "array([10, 12])"
      ]
     },
     "execution_count": 68,
     "metadata": {},
     "output_type": "execute_result"
    }
   ],
   "source": [
    "np.sum(stat,axis=1)## 1 matlab horizonatal row ka sum print krega"
   ]
  },
  {
   "cell_type": "code",
   "execution_count": 70,
   "id": "6e6ef160",
   "metadata": {},
   "outputs": [
    {
     "name": "stdout",
     "output_type": "stream",
     "text": [
      "[[5 2 3 3 4 5]]\n"
     ]
    }
   ],
   "source": [
    "stt=stat.reshape((1,6))## we can redhape the matrix\n",
    "print(stt)\n",
    "#np.revel --isse 1d array banta hai\n",
    "# np.arange(15)matalab 0 to 14 array dega\n",
    "# l=np.linspace(1,5,4) matlab 1 to tak 4 random equally spaced no generate kregaa"
   ]
  },
  {
   "cell_type": "code",
   "execution_count": 74,
   "id": "b34e4cbf",
   "metadata": {},
   "outputs": [
    {
     "data": {
      "text/plain": [
       "array([[[5, 2, 3],\n",
       "        [3, 4, 5]],\n",
       "\n",
       "       [[1, 2, 3],\n",
       "        [4, 5, 6]]])"
      ]
     },
     "execution_count": 74,
     "metadata": {},
     "output_type": "execute_result"
    }
   ],
   "source": [
    "# vertical stacking array\n",
    "stu=np.array([[1,2,3],[4,5,6]])\n",
    "np.stack([stat,stu])\n",
    "# np.hstack\n",
    "# np.vstack"
   ]
  },
  {
   "cell_type": "code",
   "execution_count": null,
   "id": "f8fe777b",
   "metadata": {},
   "outputs": [],
   "source": []
  }
 ],
 "metadata": {
  "kernelspec": {
   "display_name": "Python 3 (ipykernel)",
   "language": "python",
   "name": "python3"
  },
  "language_info": {
   "codemirror_mode": {
    "name": "ipython",
    "version": 3
   },
   "file_extension": ".py",
   "mimetype": "text/x-python",
   "name": "python",
   "nbconvert_exporter": "python",
   "pygments_lexer": "ipython3",
   "version": "3.11.3"
  }
 },
 "nbformat": 4,
 "nbformat_minor": 5
}
